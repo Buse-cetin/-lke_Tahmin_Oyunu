{
  "nbformat": 4,
  "nbformat_minor": 0,
  "metadata": {
    "colab": {
      "provenance": [],
      "authorship_tag": "ABX9TyPWO+mmX/lK8wxPbOo8YfxE",
      "include_colab_link": true
    },
    "kernelspec": {
      "name": "python3",
      "display_name": "Python 3"
    },
    "language_info": {
      "name": "python"
    }
  },
  "cells": [
    {
      "cell_type": "markdown",
      "metadata": {
        "id": "view-in-github",
        "colab_type": "text"
      },
      "source": [
        "<a href=\"https://colab.research.google.com/github/Buse-cetin/-lke_Tahmin_Oyunu/blob/main/%C3%9Clke_Tahmin_Oyunu.ipynb\" target=\"_parent\"><img src=\"https://colab.research.google.com/assets/colab-badge.svg\" alt=\"Open In Colab\"/></a>"
      ]
    },
    {
      "cell_type": "code",
      "execution_count": 3,
      "metadata": {
        "colab": {
          "base_uri": "https://localhost:8080/"
        },
        "id": "BGrVQcOlQeLZ",
        "outputId": "a56b1e85-ebe8-4345-c377-eaf79cb1e4e7"
      },
      "outputs": [
        {
          "name": "stdout",
          "output_type": "stream",
          "text": [
            "################################################################################\n",
            "##############################Kelime Tahmin Oyunu#############################\n",
            "################################################################################\n",
            "\n",
            "Kelimemiz 7 harflidir.\n",
            "Kelimeyi Tahmin Ediniz _______\n",
            "7 CANIN VAR!\n",
            "Bir Harf Giriniz\n",
            ">>>>A\n",
            "Doğru!, A harfi kelimemiz içerisinde 2 kere geçiyor.\n",
            "Kelimeyi Tahmin Ediniz ___A__A\n",
            "7 CANIN VAR!\n",
            "Bir Harf Giriniz\n",
            ">>>>F\n",
            "Yanlış!, Kelimede bu harf yok.\n",
            "Kelimeyi Tahmin Ediniz ___A__A\n",
            "6 CANIN VAR!\n",
            "Bir Harf Giriniz\n",
            ">>>>I\n",
            "Doğru!, I harfi kelimemiz içerisinde 1 kere geçiyor.\n",
            "Kelimeyi Tahmin Ediniz I__A__A\n",
            "6 CANIN VAR!\n",
            "Bir Harf Giriniz\n",
            ">>>>S\n",
            "Doğru!, S harfi kelimemiz içerisinde 1 kere geçiyor.\n",
            "Kelimeyi Tahmin Ediniz IS_A__A\n",
            "6 CANIN VAR!\n",
            "Bir Harf Giriniz\n",
            ">>>>N\n",
            "Doğru!, N harfi kelimemiz içerisinde 1 kere geçiyor.\n",
            "Kelimeyi Tahmin Ediniz IS_AN_A\n",
            "6 CANIN VAR!\n",
            "Bir Harf Giriniz\n",
            ">>>>S\n",
            "S daha önce söylendi. Lütfen başka bir harf söyleyin.\n",
            "Kelimeyi Tahmin Ediniz IS_AN_A\n",
            "6 CANIN VAR!\n",
            "Bir Harf Giriniz\n",
            ">>>>P\n",
            "Doğru!, P harfi kelimemiz içerisinde 1 kere geçiyor.\n",
            "Kelimeyi Tahmin Ediniz ISPAN_A\n",
            "6 CANIN VAR!\n",
            "Bir Harf Giriniz\n",
            ">>>>Y\n",
            "Doğru!, Y harfi kelimemiz içerisinde 1 kere geçiyor.\n",
            "Kelimeyi Doğru Bildiniz. Tebrik Ederiz!\n",
            "Ülke:  ISPANYA\n",
            "Oyundan Çıkmak İstiyorsanız \n",
            "',' Tuşuna Basınız.\\Devam Etmek İçin Herhangi Bir Başka Tuşa Basınız.\n",
            ">>>>,\n"
          ]
        }
      ],
      "source": [
        "from random import choice\n",
        "\n",
        "while True:\n",
        "    print(\"#\"*80)\n",
        "    print(\"#\"*30+ \"Kelime Tahmin Oyunu\"+ \"#\"*29)\n",
        "    print(\"#\"*80)\n",
        "\n",
        "    kelime = choice ([\"amerika\", \"ispanya\", \"almanya\", \"fas\", \"izlanda\", \"rusya\", \"ukrayna\", \"azerbaycan\", \"Türkiye\", \"fransa\", \"ingiltere\", \"kanada\", \"mısır\",\"japonya\"])\n",
        "\n",
        "    kelime = kelime.upper()\n",
        "\n",
        "    harfsayisi = len(kelime)\n",
        "\n",
        "    print(\"\\nKelimemiz {} harflidir.\".format(harfsayisi))\n",
        "\n",
        "\n",
        "    tahminler = []\n",
        "    hata = []\n",
        "\n",
        "    deneme = 7\n",
        "\n",
        "    while deneme > 0:\n",
        "        tabela =\"\"\n",
        "\n",
        "        for harf in kelime :\n",
        "            if harf in tahminler:\n",
        "                tabela = tabela + harf\n",
        "\n",
        "            else:\n",
        "                tabela = tabela + \"_\"\n",
        "\n",
        "        if tabela ==kelime:\n",
        "            print(\"Kelimeyi Doğru Bildiniz. Tebrik Ederiz!\")\n",
        "            print(\"Ülke: \",tabela)\n",
        "            break\n",
        "\n",
        "        print(\"Kelimeyi Tahmin Ediniz\", tabela)\n",
        "        print(deneme, \"CANIN VAR!\")\n",
        "\n",
        "        Tahmin= input(\"Bir Harf Giriniz\\n>>>>\")\n",
        "        Tahmin = Tahmin.upper()\n",
        "\n",
        "        if Tahmin == kelime:\n",
        "            print(\"Doğru Bildin\")\n",
        "            break\n",
        "\n",
        "        if Tahmin in tahminler or Tahmin in hata:\n",
        "            print(\"{} daha önce söylendi. Lütfen başka bir harf söyleyin.\".format(Tahmin))\n",
        "\n",
        "        elif Tahmin in kelime:\n",
        "            rpt= kelime.count(Tahmin)\n",
        "            print(\"Doğru!, {0} harfi kelimemiz içerisinde {1} kere geçiyor.\".format(Tahmin,rpt))\n",
        "            tahminler.append(Tahmin)\n",
        "        else:\n",
        "            print(\"Yanlış!, Kelimede bu harf yok.\")\n",
        "            hata.append(Tahmin)\n",
        "            deneme=deneme -1\n",
        "    if deneme == 0:\n",
        "        print(\"Hiç Hakkınız Kalmadı. Başaramadın. \")\n",
        "        print(\"Kelimemiz {}\".format(kelime))\n",
        "\n",
        "    print(\"Oyundan Çıkmak İstiyorsanız \\n',' Tuşuna Basınız.\\Devam Etmek İçin Herhangi Bir Başka Tuşa Basınız.\")\n",
        "    devam = input(\">>>>\")\n",
        "    devam = devam.upper()\n",
        "    if devam == \",\":\n",
        "        break\n",
        "    else:\n",
        "        continue\n"
      ]
    }
  ]
}